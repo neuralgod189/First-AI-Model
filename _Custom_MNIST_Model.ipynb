Custom model: added Dense(32) layer + optimizer experiment (SGD)
